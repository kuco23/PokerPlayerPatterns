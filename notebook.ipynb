{
 "cells": [
  {
   "cell_type": "markdown",
   "metadata": {},
   "source": [
    "<h2 style=\"font-family: monospace; color: purple;\"> Poker Player Patterns</h2>\n",
    "\n",
    "The data needed is [here](https://www.kaggle.com/smeilz/poker-holdem-games#Export%20Holdem%20Manager%202.0%2012292016131233.txt), the specific file used is \n",
    "<b><span style=\"color: black; background-color: red;\">Export Holdem Manager 2.0 12302016144830.txt</span></b>."
   ]
  },
  {
   "cell_type": "markdown",
   "metadata": {},
   "source": [
    "<h3 style=\"color: green; font-family: monospace;\">Environment settings</h3>"
   ]
  },
  {
   "cell_type": "code",
   "execution_count": 57,
   "metadata": {},
   "outputs": [],
   "source": [
    "from pathlib import Path\n",
    "import pandas as pd\n",
    "\n",
    "nrounds, nrowdisplay = 10, 100\n",
    "pd.options.display.max_rows = nrowdisplay"
   ]
  },
  {
   "cell_type": "markdown",
   "metadata": {},
   "source": [
    "### Loading csv"
   ]
  },
  {
   "cell_type": "code",
   "execution_count": 80,
   "metadata": {},
   "outputs": [
    {
     "name": "stdout",
     "output_type": "stream",
     "text": [
      "{'folds': 0, 'calls': 1, 'raises': 2, 'checks': 3, 'bets': 4, 'allin': 5}\n"
     ]
    }
   ],
   "source": [
    "load_path = Path.cwd() / 'tidy_data'\n",
    "\n",
    "action_ids = pd.read_csv(load_path / 'action_ids.csv')\n",
    "user_ids = pd.read_csv(load_path / 'user_ids.csv')\n",
    "actions = pd.read_csv(load_path / 'actions.csv')\n",
    "cardshow = pd.read_csv(load_path / 'cardshow.csv')\n",
    "buyins = pd.read_csv(load_path / 'buyins.csv')\n",
    "blinds = pd.read_csv(load_path / 'blinds.csv')\n",
    "\n",
    "action_dict = dict(zip(action_ids.action_name, action_ids.action_id))\n",
    "actions = actions[actions.round_id <= nrounds]\n",
    "cardshow = cardshow[cardshow.round_id <= nrounds]\n",
    "buyins = buyins[buyins.round_id <= nrounds]\n",
    "blinds = blinds[blinds.round_id <= nrounds]\n",
    "\n",
    "print(action_dict)"
   ]
  },
  {
   "cell_type": "markdown",
   "metadata": {},
   "source": [
    "### Basics\n",
    "We'll gather some basic information about the players.\n",
    "For each player we want:\n",
    "- number of rounds played\n",
    "- number of each action taken\n",
    "- stake at each turn"
   ]
  },
  {
   "cell_type": "code",
   "execution_count": 61,
   "metadata": {},
   "outputs": [],
   "source": [
    "n_rounds = buyins.groupby('user_id').apply(\n",
    "    lambda df: pd.DataFrame(\n",
    "        pd.DataFrame(\n",
    "            data = {'rounds_played': [len(df.round_id)]}\n",
    "        )\n",
    "    )\n",
    ").reset_index().drop(columns = ['level_1'])"
   ]
  },
  {
   "cell_type": "code",
   "execution_count": 62,
   "metadata": {},
   "outputs": [],
   "source": [
    "n_actions = actions.groupby('user_id').apply(\n",
    "    lambda df: pd.DataFrame(\n",
    "        data = {\n",
    "            key: [len(df.action_id[df.action_id == i])]\n",
    "            for key, i in action_dict.items()\n",
    "        }\n",
    "    )\n",
    ").reset_index().drop(columns = ['level_1'])"
   ]
  },
  {
   "cell_type": "code",
   "execution_count": 63,
   "metadata": {},
   "outputs": [],
   "source": [
    "winnings = cardshow.groupby('user_id').apply(\n",
    "    lambda df: pd.DataFrame(\n",
    "        data = {\n",
    "            'sum': [sum(df.amount)],\n",
    "            'mean': [df.amount.mean()]\n",
    "        }\n",
    "    )\n",
    ").reset_index().drop(columns = ['level_1'])"
   ]
  },
  {
   "cell_type": "code",
   "execution_count": 97,
   "metadata": {},
   "outputs": [],
   "source": [
    "# df contains rows of one turn\n",
    "def getStakes(df):\n",
    "    pot_dict = {user: 0 for user in df.user_id}\n",
    "    pot_so_far = 0\n",
    "    for i, row in df.sort_values('action_order').iterrows():\n",
    "        if row.action_id == 5:\n",
    "            pot_dict[row.user_id] += row.amount\n",
    "            pot_so_far += max(pot_so_far, pot_dict[row.user_id])\n",
    "        elif row.action_id in [2, 4, 7]:\n",
    "            pot_so_far += row.amount \n",
    "        if row.action_id not in [0, 5]:\n",
    "            pot_dict[row.user_id] = pot_so_far\n",
    "            if row.action_id == 6:\n",
    "                pot_dict[row.user_id] = row.amount\n",
    "    return pd.DataFrame(\n",
    "        data = {\n",
    "            'user_id': list(pot_dict.keys()),\n",
    "            'user_stake': list(pot_dict.values())\n",
    "        }\n",
    "    )\n",
    "\n",
    "blinds_temp = pd.DataFrame(\n",
    "    data = {\n",
    "        'round_id': blinds.round_id,\n",
    "        'user_id': blinds.user_id,\n",
    "        'amount': blinds.value,\n",
    "        'turn': [0] * len(blinds.value),\n",
    "        'action_id': blinds.blind_type_id.replace(\n",
    "            [0, 1], [6, 7]\n",
    "        ),\n",
    "        'action_order': blinds.blind_type_id.replace(\n",
    "            [0, 1], [-2, -1]\n",
    "        )\n",
    "    }\n",
    ")\n",
    "\n",
    "user_stakes = actions.append(\n",
    "    blinds_temp, sort=True\n",
    ").groupby(\n",
    "    ['round_id', 'turn']\n",
    ").apply(\n",
    "    getStakes\n",
    ").reset_index().drop(columns = ['level_2'])"
   ]
  }
 ],
 "metadata": {
  "kernelspec": {
   "display_name": "Python 3",
   "language": "python",
   "name": "python3"
  },
  "language_info": {
   "codemirror_mode": {
    "name": "ipython",
    "version": 3
   },
   "file_extension": ".py",
   "mimetype": "text/x-python",
   "name": "python",
   "nbconvert_exporter": "python",
   "pygments_lexer": "ipython3",
   "version": "3.7.1"
  }
 },
 "nbformat": 4,
 "nbformat_minor": 2
}

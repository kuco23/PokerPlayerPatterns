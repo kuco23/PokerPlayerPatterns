{
 "cells": [
  {
   "cell_type": "markdown",
   "metadata": {},
   "source": [
    "<h2 style=\"font-family: monospace; color: purple;\"> Poker Player Patterns</h2>\n",
    "\n",
    "The data needed is [here](https://www.kaggle.com/smeilz/poker-holdem-games#Export%20Holdem%20Manager%202.0%2012292016131233.txt), specific file used is \n",
    "<b><span style=\"color: black; background-color: red;\">Export Holdem Manager 2.0 12302016144830.txt</span></b>."
   ]
  },
  {
   "cell_type": "markdown",
   "metadata": {},
   "source": [
    "<h3 style=\"color: green; font-family: monospace;\">Environment settings</h3>"
   ]
  },
  {
   "cell_type": "code",
   "execution_count": 24,
   "metadata": {},
   "outputs": [],
   "source": [
    "from pathlib import Path\n",
    "import pandas as pd\n",
    "from lib import ActionId, TurnId\n",
    "\n",
    "nrounds, nrowdisplay = 10000, 15\n",
    "pd.options.display.max_rows = nrowdisplay"
   ]
  },
  {
   "cell_type": "markdown",
   "metadata": {},
   "source": [
    "### Loading csv"
   ]
  },
  {
   "cell_type": "code",
   "execution_count": 25,
   "metadata": {},
   "outputs": [
    {
     "name": "stdout",
     "output_type": "stream",
     "text": [
      "{'folds': 0, 'calls': 1, 'raises': 2, 'checks': 3, 'bets': 4, 'allin': 5}\n"
     ]
    }
   ],
   "source": [
    "load_path = Path.cwd() / 'tidy_data'\n",
    "\n",
    "action_ids = pd.read_csv(load_path / 'action_ids.csv')\n",
    "user_ids = pd.read_csv(load_path / 'user_ids.csv')\n",
    "actions = pd.read_csv(load_path / 'actions.csv')\n",
    "cardshow = pd.read_csv(load_path / 'cardshow.csv')\n",
    "buyins = pd.read_csv(load_path / 'buyins.csv')\n",
    "blinds = pd.read_csv(load_path / 'blinds.csv')\n",
    "\n",
    "actions = actions[actions.round_id <= nrounds]\n",
    "cardshow = cardshow[cardshow.round_id <= nrounds]\n",
    "buyins = buyins[buyins.round_id <= nrounds]\n",
    "blinds = blinds[blinds.round_id <= nrounds]\n",
    "\n",
    "action_dict = dict(zip(action_ids.action_name, action_ids.action_id))\n",
    "user_dict = list(user_ids.user.sort_values())\n",
    "print(action_dict)"
   ]
  },
  {
   "cell_type": "markdown",
   "metadata": {},
   "source": [
    "### Basics\n",
    "We'll gather some basic information about the players.\n",
    "For each player we want:\n",
    "- number of rounds played\n",
    "- number of each action taken\n",
    "- relative winnings"
   ]
  },
  {
   "cell_type": "code",
   "execution_count": 26,
   "metadata": {},
   "outputs": [],
   "source": [
    "n_rounds = buyins.groupby('user_id').apply(\n",
    "    lambda df: pd.DataFrame(\n",
    "        pd.DataFrame(\n",
    "            data = {'rounds_played': [len(df.round_id)]}\n",
    "        )\n",
    "    )\n",
    ").reset_index().drop(columns = ['level_1'])"
   ]
  },
  {
   "cell_type": "code",
   "execution_count": 27,
   "metadata": {},
   "outputs": [],
   "source": [
    "n_actions = actions.groupby('user_id').apply(\n",
    "    lambda df: pd.DataFrame(\n",
    "        data = {\n",
    "            key: [len(df.action_id[df.action_id == i])]\n",
    "            for key, i in action_dict.items()\n",
    "        }\n",
    "    )\n",
    ").reset_index().drop(columns = ['level_1'])"
   ]
  },
  {
   "cell_type": "code",
   "execution_count": 28,
   "metadata": {},
   "outputs": [],
   "source": [
    "winnings = cardshow.groupby('user_id').apply(\n",
    "    lambda df: pd.DataFrame(\n",
    "        data = {\n",
    "            'total': [df.amount.sum()],\n",
    "            'mean': [df.amount.mean()]\n",
    "        }\n",
    "    )\n",
    ").reset_index().drop(columns = ['level_1'])"
   ]
  },
  {
   "cell_type": "code",
   "execution_count": 33,
   "metadata": {},
   "outputs": [
    {
     "data": {
      "text/html": [
       "<div>\n",
       "<style scoped>\n",
       "    .dataframe tbody tr th:only-of-type {\n",
       "        vertical-align: middle;\n",
       "    }\n",
       "\n",
       "    .dataframe tbody tr th {\n",
       "        vertical-align: top;\n",
       "    }\n",
       "\n",
       "    .dataframe thead th {\n",
       "        text-align: right;\n",
       "    }\n",
       "</style>\n",
       "<table border=\"1\" class=\"dataframe\">\n",
       "  <thead>\n",
       "    <tr style=\"text-align: right;\">\n",
       "      <th></th>\n",
       "      <th>user_id</th>\n",
       "      <th>total</th>\n",
       "      <th>mean</th>\n",
       "      <th>user</th>\n",
       "    </tr>\n",
       "  </thead>\n",
       "  <tbody>\n",
       "    <tr>\n",
       "      <th>0</th>\n",
       "      <td>5</td>\n",
       "      <td>565.01</td>\n",
       "      <td>0.057072</td>\n",
       "      <td>IlxxxlI</td>\n",
       "    </tr>\n",
       "  </tbody>\n",
       "</table>\n",
       "</div>"
      ],
      "text/plain": [
       "   user_id   total      mean     user\n",
       "0        5  565.01  0.057072  IlxxxlI"
      ]
     },
     "execution_count": 33,
     "metadata": {},
     "output_type": "execute_result"
    }
   ],
   "source": [
    "mx = winnings.total.max()\n",
    "player = winnings[winnings.total == mx]\n",
    "df.merge(user_ids, how='outer', on='user_id').dropna()\n"
   ]
  },
  {
   "cell_type": "code",
   "execution_count": null,
   "metadata": {},
   "outputs": [],
   "source": []
  }
 ],
 "metadata": {
  "kernelspec": {
   "display_name": "Python 3",
   "language": "python",
   "name": "python3"
  },
  "language_info": {
   "codemirror_mode": {
    "name": "ipython",
    "version": 3
   },
   "file_extension": ".py",
   "mimetype": "text/x-python",
   "name": "python",
   "nbconvert_exporter": "python",
   "pygments_lexer": "ipython3",
   "version": "3.7.1"
  }
 },
 "nbformat": 4,
 "nbformat_minor": 2
}

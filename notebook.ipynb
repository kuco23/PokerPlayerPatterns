{
 "cells": [
  {
   "cell_type": "markdown",
   "metadata": {},
   "source": [
    "## Poker Player Patterns\n",
    "\n",
    "The data needed is [here](https://www.kaggle.com/smeilz/poker-holdem-games#Export%20Holdem%20Manager%202.0%2012292016131233.txt), the specific file used is \n",
    "<b><span style=\"color: black; background-color: red;\">Export Holdem Manager 2.0 12292016131233.txt</span></b>."
   ]
  },
  {
   "cell_type": "markdown",
   "metadata": {},
   "source": [
    "### Environment settings"
   ]
  },
  {
   "cell_type": "code",
   "execution_count": 70,
   "metadata": {},
   "outputs": [],
   "source": [
    "from pathlib import Path\n",
    "import pandas as pd\n",
    "\n",
    "nrounds, nrowdisplay = 100, 10\n",
    "pd.options.display.max_rows = nrowdisplay"
   ]
  },
  {
   "cell_type": "markdown",
   "metadata": {},
   "source": [
    "### Loading csv"
   ]
  },
  {
   "cell_type": "code",
   "execution_count": 74,
   "metadata": {},
   "outputs": [
    {
     "name": "stdout",
     "output_type": "stream",
     "text": [
      "{'folds': 0, 'calls': 1, 'raises': 2, 'checks': 3, 'bets': 4, 'allin': 5}\n"
     ]
    }
   ],
   "source": [
    "load_path = Path.cwd() / 'tidy_data'\n",
    "\n",
    "action_ids = pd.read_csv(load_path / 'action_ids.csv')\n",
    "actions = pd.read_csv(load_path / 'actions.csv')\n",
    "cardshow = pd.read_csv(load_path / 'cardshow.csv')\n",
    "buyins = pd.read_csv(load_path / 'buyins.csv')\n",
    "\n",
    "action_dict = dict(zip(action_ids.action_name, action_ids.action_id))\n",
    "actions = actions[actions.round_id <= nrounds]\n",
    "cardshow = cardshow[cardshow.round_id <= nrounds]\n",
    "buyins = buyins[buyins.round_id <= nrounds]\n",
    "\n",
    "print(action_dict)"
   ]
  },
  {
   "cell_type": "markdown",
   "metadata": {},
   "source": [
    "### Basics\n",
    "We'll gather some basic information about the players.\n",
    "For each player we want:\n",
    "- number of rounds played\n",
    "- number of each action taken\n",
    "- money put in each round\n",
    "- money won out of pot\n",
    "- relative winnings through the game"
   ]
  },
  {
   "cell_type": "code",
   "execution_count": 83,
   "metadata": {},
   "outputs": [],
   "source": [
    "n_rounds = buyins.groupby('user_id').apply(\n",
    "    lambda df: pd.DataFrame(\n",
    "        pd.DataFrame(\n",
    "            data = {'rounds_played': [len(df.round_id)]}\n",
    "        )\n",
    "    )\n",
    ").reset_index().drop(columns = ['level_1'])"
   ]
  },
  {
   "cell_type": "code",
   "execution_count": 84,
   "metadata": {},
   "outputs": [],
   "source": [
    "n_actions = actions.groupby('user_id').apply(\n",
    "    lambda df: pd.DataFrame(\n",
    "        data = {\n",
    "            key: [len(df.action_id[df.action_id == i])]\n",
    "            for key, i in action_dict.items()\n",
    "        }\n",
    "    )\n",
    ").reset_index().drop(columns = ['level_1'])"
   ]
  },
  {
   "cell_type": "code",
   "execution_count": 85,
   "metadata": {},
   "outputs": [],
   "source": [
    "winnings = cardshow.groupby('user_id').apply(\n",
    "    lambda df: pd.DataFrame(\n",
    "        data = {\n",
    "            'sum': [sum(df.amount)],\n",
    "            'mean': [df.amount.mean()]\n",
    "        }\n",
    "    )\n",
    ").reset_index().drop(columns = ['level_1'])"
   ]
  },
  {
   "cell_type": "code",
   "execution_count": 80,
   "metadata": {},
   "outputs": [
    {
     "data": {
      "text/html": [
       "<div>\n",
       "<style scoped>\n",
       "    .dataframe tbody tr th:only-of-type {\n",
       "        vertical-align: middle;\n",
       "    }\n",
       "\n",
       "    .dataframe tbody tr th {\n",
       "        vertical-align: top;\n",
       "    }\n",
       "\n",
       "    .dataframe thead th {\n",
       "        text-align: right;\n",
       "    }\n",
       "</style>\n",
       "<table border=\"1\" class=\"dataframe\">\n",
       "  <thead>\n",
       "    <tr style=\"text-align: right;\">\n",
       "      <th></th>\n",
       "      <th>user_id</th>\n",
       "      <th>folds</th>\n",
       "      <th>calls</th>\n",
       "      <th>raises</th>\n",
       "      <th>checks</th>\n",
       "      <th>bets</th>\n",
       "      <th>allin</th>\n",
       "    </tr>\n",
       "  </thead>\n",
       "  <tbody>\n",
       "    <tr>\n",
       "      <th>0</th>\n",
       "      <td>0</td>\n",
       "      <td>3</td>\n",
       "      <td>1</td>\n",
       "      <td>2</td>\n",
       "      <td>0</td>\n",
       "      <td>2</td>\n",
       "      <td>0</td>\n",
       "    </tr>\n",
       "    <tr>\n",
       "      <th>1</th>\n",
       "      <td>1</td>\n",
       "      <td>13</td>\n",
       "      <td>0</td>\n",
       "      <td>4</td>\n",
       "      <td>0</td>\n",
       "      <td>2</td>\n",
       "      <td>1</td>\n",
       "    </tr>\n",
       "    <tr>\n",
       "      <th>2</th>\n",
       "      <td>2</td>\n",
       "      <td>64</td>\n",
       "      <td>4</td>\n",
       "      <td>11</td>\n",
       "      <td>5</td>\n",
       "      <td>4</td>\n",
       "      <td>2</td>\n",
       "    </tr>\n",
       "    <tr>\n",
       "      <th>3</th>\n",
       "      <td>3</td>\n",
       "      <td>14</td>\n",
       "      <td>1</td>\n",
       "      <td>1</td>\n",
       "      <td>0</td>\n",
       "      <td>2</td>\n",
       "      <td>0</td>\n",
       "    </tr>\n",
       "    <tr>\n",
       "      <th>4</th>\n",
       "      <td>4</td>\n",
       "      <td>14</td>\n",
       "      <td>3</td>\n",
       "      <td>2</td>\n",
       "      <td>1</td>\n",
       "      <td>0</td>\n",
       "      <td>0</td>\n",
       "    </tr>\n",
       "    <tr>\n",
       "      <th>...</th>\n",
       "      <td>...</td>\n",
       "      <td>...</td>\n",
       "      <td>...</td>\n",
       "      <td>...</td>\n",
       "      <td>...</td>\n",
       "      <td>...</td>\n",
       "      <td>...</td>\n",
       "    </tr>\n",
       "    <tr>\n",
       "      <th>28</th>\n",
       "      <td>28</td>\n",
       "      <td>7</td>\n",
       "      <td>2</td>\n",
       "      <td>0</td>\n",
       "      <td>1</td>\n",
       "      <td>1</td>\n",
       "      <td>0</td>\n",
       "    </tr>\n",
       "    <tr>\n",
       "      <th>29</th>\n",
       "      <td>29</td>\n",
       "      <td>5</td>\n",
       "      <td>6</td>\n",
       "      <td>3</td>\n",
       "      <td>4</td>\n",
       "      <td>1</td>\n",
       "      <td>0</td>\n",
       "    </tr>\n",
       "    <tr>\n",
       "      <th>30</th>\n",
       "      <td>30</td>\n",
       "      <td>7</td>\n",
       "      <td>2</td>\n",
       "      <td>3</td>\n",
       "      <td>1</td>\n",
       "      <td>0</td>\n",
       "      <td>0</td>\n",
       "    </tr>\n",
       "    <tr>\n",
       "      <th>31</th>\n",
       "      <td>31</td>\n",
       "      <td>5</td>\n",
       "      <td>1</td>\n",
       "      <td>0</td>\n",
       "      <td>1</td>\n",
       "      <td>1</td>\n",
       "      <td>0</td>\n",
       "    </tr>\n",
       "    <tr>\n",
       "      <th>32</th>\n",
       "      <td>32</td>\n",
       "      <td>3</td>\n",
       "      <td>0</td>\n",
       "      <td>1</td>\n",
       "      <td>0</td>\n",
       "      <td>0</td>\n",
       "      <td>0</td>\n",
       "    </tr>\n",
       "  </tbody>\n",
       "</table>\n",
       "<p>33 rows × 7 columns</p>\n",
       "</div>"
      ],
      "text/plain": [
       "    user_id  folds  calls  raises  checks  bets  allin\n",
       "0         0      3      1       2       0     2      0\n",
       "1         1     13      0       4       0     2      1\n",
       "2         2     64      4      11       5     4      2\n",
       "3         3     14      1       1       0     2      0\n",
       "4         4     14      3       2       1     0      0\n",
       "..      ...    ...    ...     ...     ...   ...    ...\n",
       "28       28      7      2       0       1     1      0\n",
       "29       29      5      6       3       4     1      0\n",
       "30       30      7      2       3       1     0      0\n",
       "31       31      5      1       0       1     1      0\n",
       "32       32      3      0       1       0     0      0\n",
       "\n",
       "[33 rows x 7 columns]"
      ]
     },
     "execution_count": 80,
     "metadata": {},
     "output_type": "execute_result"
    }
   ],
   "source": [
    "winnings"
   ]
  },
  {
   "cell_type": "code",
   "execution_count": null,
   "metadata": {},
   "outputs": [],
   "source": []
  }
 ],
 "metadata": {
  "kernelspec": {
   "display_name": "Python 3",
   "language": "python",
   "name": "python3"
  },
  "language_info": {
   "codemirror_mode": {
    "name": "ipython",
    "version": 3
   },
   "file_extension": ".py",
   "mimetype": "text/x-python",
   "name": "python",
   "nbconvert_exporter": "python",
   "pygments_lexer": "ipython3",
   "version": "3.7.1"
  }
 },
 "nbformat": 4,
 "nbformat_minor": 2
}

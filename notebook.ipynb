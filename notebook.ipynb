{
 "cells": [
  {
   "cell_type": "markdown",
   "metadata": {},
   "source": [
    "<h1 style=\"font-family: monospace; color: orange; text-align: center; font-size: 50px;\"> \n",
    "    Poker Player Patterns\n",
    "</h1><br />\n",
    "\n",
    "The data needed is [here](https://www.kaggle.com/smeilz/poker-holdem-games#Export%20Holdem%20Manager%202.0%2012292016131233.txt), specific file used is \n",
    "<span style=\"color: black; color: orange; font-weight: bold;\">\n",
    "    Export Holdem Manager 2.0 12302016144830.txt\n",
    "</span>.\n",
    "<br />\n",
    "It represents a game of over 40 000 rounds played on a table with real money (prbbly in dolars)."
   ]
  },
  {
   "cell_type": "markdown",
   "metadata": {},
   "source": [
    "## Environment settings\n",
    "We will use a couple of libraries, with outside dependancies being matplotlib and pandas.\n",
    "From our library we will require only the enums, as they identify some ids included in the csv files."
   ]
  },
  {
   "cell_type": "code",
   "execution_count": 14,
   "metadata": {},
   "outputs": [],
   "source": [
    "from collections import Counter\n",
    "from pathlib import Path\n",
    "import matplotlib.pyplot as plt\n",
    "import pandas as pd\n",
    "from lib import ActionId, TurnId\n",
    "\n",
    "# rounds gathered (last one is not finished)\n",
    "MAX_ROUND = 42688 - 1\n",
    "# user that provided the data (sometimes deviates highly)\n",
    "MAIN_USER = 'IlxxxlI'\n",
    "\n",
    "nrounds, nrowdisplay = 1000, 10\n",
    "pd.options.display.max_rows = nrowdisplay\n",
    "\n",
    "# monkeypatch ungroup to pandas\n",
    "pd.core.frame.DataFrame.ungroup = (\n",
    "    lambda self: self.reset_index().drop(\n",
    "        columns = ['level_0', 'level_1', 'level_2'],\n",
    "        errors = 'ignore'\n",
    "    )\n",
    ")\n",
    "\n",
    "# default ax configuration\n",
    "def setAxConfig(ax, title, xlab, ylab):\n",
    "    ax.set_title(title)\n",
    "    ax.set_xlabel(xlab)\n",
    "    ax.set_ylabel(ylab)\n",
    "    ax.spines['top'].set_visible(False)\n",
    "    ax.spines['right'].set_visible(False)\n",
    "    ax.spines['left'].set_alpha(0.5)\n",
    "    ax.spines['bottom'].set_alpha(0.5)\n",
    "    ax.grid(color='grey', linestyle='-', linewidth=0.25, alpha=0.5)"
   ]
  },
  {
   "cell_type": "markdown",
   "metadata": {},
   "source": [
    "## Load csv\n",
    "Here we load the parsed and later tidied data. <br />\n",
    "Because there are many files and we have to do similar things for each one, there is a loop that takes care of all and also reduces readability. <br />\n",
    "We will often combine columns of different data frames without merging them by \n",
    "<span style=\"font-family: monospace;\">user_id</span> column, therefore we must sort them (all users are accounted for as we made sure when the data was tidied)."
   ]
  },
  {
   "cell_type": "code",
   "execution_count": 15,
   "metadata": {},
   "outputs": [],
   "source": [
    "load_path = Path.cwd() / 'tidy_data'\n",
    "\n",
    "for file in load_path.iterdir():\n",
    "    data = pd.read_csv(file)\n",
    "    if 'round_id' in data.columns:\n",
    "        data = data[data.round_id <= nrounds]\n",
    "    if 'user_id' in data.columns:\n",
    "        data = data.sort_values('user_id')\n",
    "    globals()[file.stem] = data\n",
    "\n",
    "user_dict = list(user_ids.user)\n",
    "main_user_id = user_dict.index(MAIN_USER)"
   ]
  },
  {
   "cell_type": "markdown",
   "metadata": {},
   "source": [
    "## Winnings Based Correlations\n",
    "We'll gather some basic information about the players and show some correlations. These will serve us as a rough insight into players' general behaviour, which we'll later try to improve."
   ]
  },
  {
   "cell_type": "markdown",
   "metadata": {},
   "source": [
    "### Folds vs. Winnings\n",
    "We will check if the fold average of a player has any effect on his winnings. <br />\n",
    "This is a rough estimate of player's low agression level, which we will analyse later on."
   ]
  },
  {
   "cell_type": "code",
   "execution_count": 16,
   "metadata": {},
   "outputs": [],
   "source": [
    "def actionSummary(df):\n",
    "    count = Counter(df.action_id)\n",
    "    return {\n",
    "        action.name: [count[int(action)]]\n",
    "        for action in ActionId\n",
    "    }\n",
    "        \n",
    "action_summary = actions.groupby('user_id').apply(\n",
    "    lambda df: pd.DataFrame(\n",
    "        data = {\n",
    "            **actionSummary(df),\n",
    "            'all_actions': [len(df.action_id)]\n",
    "        }\n",
    "    )\n",
    ").ungroup()"
   ]
  },
  {
   "cell_type": "code",
   "execution_count": 17,
   "metadata": {},
   "outputs": [],
   "source": [
    "winnings = cardshow.groupby('user_id').apply(\n",
    "    lambda df: pd.DataFrame(\n",
    "        data = {\n",
    "            'total_won': [df.amount.sum()],\n",
    "            'mean_won': [df.amount.mean()],\n",
    "            'std_won': [df.amount.std()]\n",
    "        }\n",
    "    )\n",
    ").ungroup()"
   ]
  },
  {
   "cell_type": "code",
   "execution_count": 18,
   "metadata": {},
   "outputs": [
    {
     "data": {
      "image/png": "[encoded data removed]",
      "text/plain": [
       "<Figure size 1080x432 with 2 Axes>"
      ]
     },
     "metadata": {
      "needs_background": "light"
     },
     "output_type": "display_data"
    }
   ],
   "source": [
    "fig, (ax1, ax2) = plt.subplots(1, 2, figsize=(15, 6))\n",
    "setAxConfig(ax1, 'folds / avg winnings', 'fold percentage', 'avg')\n",
    "setAxConfig(ax2, 'folds / std winnings', 'fold percentage', 'std')\n",
    "\n",
    "fold_average = action_summary.FOLD / action_summary.all_actions\n",
    "\n",
    "ax1.scatter(\n",
    "    fold_average, winnings.mean_won, \n",
    "    s=4, c='black', alpha=0.3\n",
    ");\n",
    "ax2.scatter(\n",
    "    fold_average, winnings.std_won,\n",
    "    s=4, c='black', alpha=0.3\n",
    ");"
   ]
  },
  {
   "cell_type": "markdown",
   "metadata": {},
   "source": [
    "We see that folding more slightly decreases deviation while the winnings aproximate 0."
   ]
  },
  {
   "cell_type": "markdown",
   "metadata": {},
   "source": [
    "### Raises vs. Winnings\n",
    "Here as opposed to the latter we will see if being more agressive has any effect on winnings.\n",
    "As a measure for this we will take player's raise average. <br />\n",
    "We will also check the effects of raise amount consistency on the winnings. Note that before we applied deviation at the winnings, now we apply it to measure a player's characteristic."
   ]
  },
  {
   "cell_type": "code",
   "execution_count": 19,
   "metadata": {},
   "outputs": [],
   "source": [
    "raise_stats = actions.groupby('user_id').apply(\n",
    "    lambda df: pd.DataFrame(\n",
    "        data = {\n",
    "            'num_raise': [len(df[df.action_id == ActionId.RAISE])],\n",
    "            'avg_raise': [df.amount.mean()],\n",
    "            'std_raise': [df.amount.std()]\n",
    "        }\n",
    "    )\n",
    ").ungroup()"
   ]
  },
  {
   "cell_type": "code",
   "execution_count": 20,
   "metadata": {},
   "outputs": [
    {
     "data": {
      "image/png": "[encoded data removed]",
      "text/plain": [
       "<Figure size 1080x432 with 2 Axes>"
      ]
     },
     "metadata": {
      "needs_background": "light"
     },
     "output_type": "display_data"
    }
   ],
   "source": [
    "fig, (ax1, ax2) = plt.subplots(1, 2, figsize=(15, 6))\n",
    "setAxConfig(ax1, 'number of raises / avg winnings', 'num raise', 'avg winnings')\n",
    "setAxConfig(ax2, 'number of raises / std winnings', 'num raise', 'std winnings')\n",
    "\n",
    "ax1.scatter(\n",
    "    raise_stats.num_raise[raise_stats.user_id != main_user_id], \n",
    "    winnings.mean_won[winnings.user_id != main_user_id], \n",
    "    s=4, c='black', alpha=0.4\n",
    ");\n",
    "ax2.scatter(\n",
    "    raise_stats.num_raise[raise_stats.user_id != main_user_id], \n",
    "    winnings.std_won[winnings.user_id != main_user_id],\n",
    "    s=4, c='black', alpha=0.4\n",
    ");"
   ]
  },
  {
   "cell_type": "markdown",
   "metadata": {},
   "source": [
    "What is really suprising here is that those few people who raise more frequently gain more on average, though their deviation rises slightly. This is a positive indication that agressive players do win more."
   ]
  },
  {
   "cell_type": "markdown",
   "metadata": {},
   "source": [
    "## Agression Based Clustering\n",
    "We will try to define player's agression level and analyse it further."
   ]
  },
  {
   "cell_type": "markdown",
   "metadata": {},
   "source": [
    "### Probability Of Folding To A Raise\n",
    "Let's see how likely it is for a player to fold after being raised."
   ]
  },
  {
   "cell_type": "code",
   "execution_count": 75,
   "metadata": {},
   "outputs": [],
   "source": [
    "folded_to = actions.groupby(\n",
    "    'round_id'\n",
    ").apply(\n",
    "    lambda df: df.sort_values('action_order')\n",
    ").drop(\n",
    "    columns = 'round_id'\n",
    ").ungroup().groupby(\n",
    "    ['round_id', 'turn']\n",
    ").apply(\n",
    "    lambda df: pd.DataFrame(\n",
    "        data = {\n",
    "            'user_id': df.user_id,\n",
    "            'round_id': df.round_id,\n",
    "            'action_id': df.action_id,\n",
    "            'folded_to': (df.amount * (\n",
    "                (df.action_id == ActionId.BET) |\n",
    "                (df.action_id == ActionId.RAISE)\n",
    "            )).cumsum()\n",
    "        }\n",
    "    )\n",
    ").ungroup().groupby(\n",
    "    'user_id'\n",
    ").apply(\n",
    "    \n",
    ")"
   ]
  },
  {
   "cell_type": "code",
   "execution_count": 76,
   "metadata": {},
   "outputs": [
    {
     "data": {
      "text/html": [
       "<div>\n",
       "<style scoped>\n",
       "    .dataframe tbody tr th:only-of-type {\n",
       "        vertical-align: middle;\n",
       "    }\n",
       "\n",
       "    .dataframe tbody tr th {\n",
       "        vertical-align: top;\n",
       "    }\n",
       "\n",
       "    .dataframe thead th {\n",
       "        text-align: right;\n",
       "    }\n",
       "</style>\n",
       "<table border=\"1\" class=\"dataframe\">\n",
       "  <thead>\n",
       "    <tr style=\"text-align: right;\">\n",
       "      <th></th>\n",
       "      <th>index</th>\n",
       "      <th>user_id</th>\n",
       "      <th>round_id</th>\n",
       "      <th>action_id</th>\n",
       "      <th>folded_to</th>\n",
       "    </tr>\n",
       "  </thead>\n",
       "  <tbody>\n",
       "    <tr>\n",
       "      <th>0</th>\n",
       "      <td>0</td>\n",
       "      <td>2</td>\n",
       "      <td>1.0</td>\n",
       "      <td>0.0</td>\n",
       "      <td>0.00</td>\n",
       "    </tr>\n",
       "    <tr>\n",
       "      <th>1</th>\n",
       "      <td>1</td>\n",
       "      <td>3</td>\n",
       "      <td>1.0</td>\n",
       "      <td>0.0</td>\n",
       "      <td>0.00</td>\n",
       "    </tr>\n",
       "    <tr>\n",
       "      <th>2</th>\n",
       "      <td>2</td>\n",
       "      <td>4</td>\n",
       "      <td>1.0</td>\n",
       "      <td>1.0</td>\n",
       "      <td>0.00</td>\n",
       "    </tr>\n",
       "    <tr>\n",
       "      <th>3</th>\n",
       "      <td>3</td>\n",
       "      <td>5</td>\n",
       "      <td>1.0</td>\n",
       "      <td>2.0</td>\n",
       "      <td>4.00</td>\n",
       "    </tr>\n",
       "    <tr>\n",
       "      <th>4</th>\n",
       "      <td>4</td>\n",
       "      <td>6</td>\n",
       "      <td>1.0</td>\n",
       "      <td>0.0</td>\n",
       "      <td>4.00</td>\n",
       "    </tr>\n",
       "    <tr>\n",
       "      <th>...</th>\n",
       "      <td>...</td>\n",
       "      <td>...</td>\n",
       "      <td>...</td>\n",
       "      <td>...</td>\n",
       "      <td>...</td>\n",
       "    </tr>\n",
       "    <tr>\n",
       "      <th>8065</th>\n",
       "      <td>8065</td>\n",
       "      <td>5</td>\n",
       "      <td>1000.0</td>\n",
       "      <td>0.0</td>\n",
       "      <td>2.88</td>\n",
       "    </tr>\n",
       "    <tr>\n",
       "      <th>8066</th>\n",
       "      <td>8066</td>\n",
       "      <td>92</td>\n",
       "      <td>1000.0</td>\n",
       "      <td>0.0</td>\n",
       "      <td>2.88</td>\n",
       "    </tr>\n",
       "    <tr>\n",
       "      <th>8067</th>\n",
       "      <td>8067</td>\n",
       "      <td>72</td>\n",
       "      <td>1000.0</td>\n",
       "      <td>0.0</td>\n",
       "      <td>2.88</td>\n",
       "    </tr>\n",
       "    <tr>\n",
       "      <th>8068</th>\n",
       "      <td>8068</td>\n",
       "      <td>69</td>\n",
       "      <td>1000.0</td>\n",
       "      <td>0.0</td>\n",
       "      <td>2.88</td>\n",
       "    </tr>\n",
       "    <tr>\n",
       "      <th>8069</th>\n",
       "      <td>8069</td>\n",
       "      <td>39</td>\n",
       "      <td>1000.0</td>\n",
       "      <td>0.0</td>\n",
       "      <td>2.88</td>\n",
       "    </tr>\n",
       "  </tbody>\n",
       "</table>\n",
       "<p>8070 rows × 5 columns</p>\n",
       "</div>"
      ],
      "text/plain": [
       "      index  user_id  round_id  action_id  folded_to\n",
       "0         0        2       1.0        0.0       0.00\n",
       "1         1        3       1.0        0.0       0.00\n",
       "2         2        4       1.0        1.0       0.00\n",
       "3         3        5       1.0        2.0       4.00\n",
       "4         4        6       1.0        0.0       4.00\n",
       "...     ...      ...       ...        ...        ...\n",
       "8065   8065        5    1000.0        0.0       2.88\n",
       "8066   8066       92    1000.0        0.0       2.88\n",
       "8067   8067       72    1000.0        0.0       2.88\n",
       "8068   8068       69    1000.0        0.0       2.88\n",
       "8069   8069       39    1000.0        0.0       2.88\n",
       "\n",
       "[8070 rows x 5 columns]"
      ]
     },
     "execution_count": 76,
     "metadata": {},
     "output_type": "execute_result"
    }
   ],
   "source": [
    "data = pd.merge(\n",
    "    folded_to, winnings,\n",
    "    'outer', 'user_id'\n",
    ").dropna()\n",
    "\n",
    "fig, ax = plt.subplots(1, 1, figsize = (10, 6))\n",
    "setAxConfig(ax, '', '', '')\n",
    "ax.plot(data.folded_to, )\n",
    "\n"
   ]
  },
  {
   "cell_type": "markdown",
   "metadata": {},
   "source": [
    "data.folded_to_avg"
   ]
  },
  {
   "cell_type": "code",
   "execution_count": 55,
   "metadata": {},
   "outputs": [
    {
     "data": {
      "text/plain": [
       "0      1.103172\n",
       "1      2.860000\n",
       "2      1.380947\n",
       "3      1.887097\n",
       "4      1.965385\n",
       "         ...   \n",
       "579    0.824000\n",
       "580    1.504286\n",
       "581    0.290000\n",
       "582         NaN\n",
       "583         NaN\n",
       "Name: folded_to_avg, Length: 584, dtype: float64"
      ]
     },
     "execution_count": 55,
     "metadata": {},
     "output_type": "execute_result"
    }
   ],
   "source": [
    "data.folded_to_avg"
   ]
  },
  {
   "cell_type": "code",
   "execution_count": null,
   "metadata": {},
   "outputs": [],
   "source": []
  },
  {
   "cell_type": "markdown",
   "metadata": {},
   "source": [
    "## Predictions\n",
    "Our goal is to predict players with low action deviation"
   ]
  },
  {
   "cell_type": "markdown",
   "metadata": {},
   "source": [
    "## 250 Best Players"
   ]
  }
 ],
 "metadata": {
  "kernelspec": {
   "display_name": "Python 3",
   "language": "python",
   "name": "python3"
  },
  "language_info": {
   "codemirror_mode": {
    "name": "ipython",
    "version": 3
   },
   "file_extension": ".py",
   "mimetype": "text/x-python",
   "name": "python",
   "nbconvert_exporter": "python",
   "pygments_lexer": "ipython3",
   "version": "3.7.1"
  }
 },
 "nbformat": 4,
 "nbformat_minor": 2
}
